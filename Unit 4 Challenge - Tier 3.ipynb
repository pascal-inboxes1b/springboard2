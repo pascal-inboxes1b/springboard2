{
 "cells": [
  {
   "cell_type": "markdown",
   "metadata": {
    "colab_type": "text",
    "id": "Tia3MP1SJpgj"
   },
   "source": [
    "# Springboard Data Science Career Track Unit 4 Challenge - Tier 3 Complete\n",
    "\n",
    "## Objectives\n",
    "Hey! Great job getting through those challenging DataCamp courses. You're learning a lot in a short span of time. \n",
    "\n",
    "In this notebook, you're going to apply the skills you've been learning, bridging the gap between the controlled environment of DataCamp and the *slightly* messier work that data scientists do with actual datasets!\n",
    "\n",
    "Here’s the mystery we’re going to solve: ***which boroughs of London have seen the greatest increase in housing prices, on average, over the last two decades?***\n",
    "\n",
    "\n",
    "A borough is just a fancy word for district. You may be familiar with the five boroughs of New York… well, there are 32 boroughs within Greater London [(here's some info for the curious)](https://en.wikipedia.org/wiki/London_boroughs). Some of them are more desirable areas to live in, and the data will reflect that with a greater rise in housing prices.\n",
    "\n",
    "***This is the Tier 3 notebook, which means it's not filled in at all: we'll just give you the skeleton of a project, the brief and the data. It's up to you to play around with it and see what you can find out! Good luck! If you struggle, feel free to look at easier tiers for help; but try to dip in and out of them, as the more independent work you do, the better it is for your learning!***\n",
    "\n",
    "This challenge will make use of only what you learned in the following DataCamp courses: \n",
    "- Prework courses (Introduction to Python for Data Science, Intermediate Python for Data Science)\n",
    "- Data Types for Data Science\n",
    "- Python Data Science Toolbox (Part One) \n",
    "- pandas Foundations\n",
    "- Manipulating DataFrames with pandas\n",
    "- Merging DataFrames with pandas\n",
    "\n",
    "Of the tools, techniques and concepts in the above DataCamp courses, this challenge should require the application of the following: \n",
    "- **pandas**\n",
    "    - **data ingestion and inspection** (pandas Foundations, Module One) \n",
    "    - **exploratory data analysis** (pandas Foundations, Module Two)\n",
    "    - **tidying and cleaning** (Manipulating DataFrames with pandas, Module Three) \n",
    "    - **transforming DataFrames** (Manipulating DataFrames with pandas, Module One)\n",
    "    - **subsetting DataFrames with lists** (Manipulating DataFrames with pandas, Module One) \n",
    "    - **filtering DataFrames** (Manipulating DataFrames with pandas, Module One) \n",
    "    - **grouping data** (Manipulating DataFrames with pandas, Module Four) \n",
    "    - **melting data** (Manipulating DataFrames with pandas, Module Three) \n",
    "    - **advanced indexing** (Manipulating DataFrames with pandas, Module Four) \n",
    "- **matplotlib** (Intermediate Python for Data Science, Module One)\n",
    "- **fundamental data types** (Data Types for Data Science, Module One) \n",
    "- **dictionaries** (Intermediate Python for Data Science, Module Two)\n",
    "- **handling dates and times** (Data Types for Data Science, Module Four)\n",
    "- **function definition** (Python Data Science Toolbox - Part One, Module One)\n",
    "- **default arguments, variable length, and scope** (Python Data Science Toolbox - Part One, Module Two) \n",
    "- **lambda functions and error handling** (Python Data Science Toolbox - Part One, Module Four) "
   ]
  },
  {
   "cell_type": "markdown",
   "metadata": {
    "colab_type": "text",
    "id": "Ipgd2nV8Jpgl"
   },
   "source": [
    "## The Data Science Pipeline\n",
    "\n",
    "This is Tier Three, so we'll get you started. But after that, it's all in your hands! When you feel done with your investigations, look back over what you've accomplished, and prepare a quick presentation of your findings for the next mentor meeting. \n",
    "\n",
    "Data Science is magical. In this case study, you'll get to apply some complex machine learning algorithms. But as  [David Spiegelhalter](https://www.youtube.com/watch?v=oUs1uvsz0Ok) reminds us, there is no substitute for simply **taking a really, really good look at the data.** Sometimes, this is all we need to answer our question.\n",
    "\n",
    "Data Science projects generally adhere to the four stages of Data Science Pipeline:\n",
    "1. Sourcing and loading \n",
    "2. Cleaning, transforming, and visualizing \n",
    "3. Modeling \n",
    "4. Evaluating and concluding \n"
   ]
  },
  {
   "cell_type": "markdown",
   "metadata": {
    "colab_type": "text",
    "id": "zswDqbefJpgm"
   },
   "source": [
    "### 1. Sourcing and Loading \n",
    "\n",
    "Any Data Science project kicks off by importing  ***pandas***. The documentation of this wonderful library can be found [here](https://pandas.pydata.org/). As you've seen, pandas is conveniently connected to the [Numpy](http://www.numpy.org/) and [Matplotlib](https://matplotlib.org/) libraries. \n",
    "\n",
    "***Hint:*** This part of the data science pipeline will test those skills you acquired in the pandas Foundations course, Module One. "
   ]
  },
  {
   "cell_type": "markdown",
   "metadata": {
    "colab_type": "text",
    "id": "aEau5nEvJpgm"
   },
   "source": [
    "#### 1.1. Importing Libraries"
   ]
  },
  {
   "cell_type": "code",
   "execution_count": 1,
   "metadata": {
    "colab": {},
    "colab_type": "code",
    "id": "7Bt_Q_oPJpgn"
   },
   "outputs": [
    {
     "name": "stderr",
     "output_type": "stream",
     "text": [
      "Matplotlib is building the font cache; this may take a moment.\n"
     ]
    }
   ],
   "source": [
    "# Let's import the pandas, numpy libraries as pd, and np respectively. \n",
    "import pandas as pd\n",
    "import numpy as np\n",
    "\n",
    "# Load the pyplot collection of functions from matplotlib, as plt \n",
    "import matplotlib.pyplot as plt"
   ]
  },
  {
   "cell_type": "markdown",
   "metadata": {
    "colab_type": "text",
    "id": "koUrawxsJpgq"
   },
   "source": [
    "#### 1.2.  Loading the data\n",
    "Your data comes from the [London Datastore](https://data.london.gov.uk/): a free, open-source data-sharing portal for London-oriented datasets. "
   ]
  },
  {
   "cell_type": "code",
   "execution_count": 2,
   "metadata": {
    "colab": {},
    "colab_type": "code",
    "id": "AiLiD4v3Jpgr"
   },
   "outputs": [],
   "source": [
    "# First, make a variable called url_LondonHousePrices, and assign it the following link, enclosed in quotation-marks as a string:\n",
    "# https://data.london.gov.uk/download/uk-house-price-index/70ac0766-8902-4eb5-aab5-01951aaed773/UK%20House%20price%20index.xls\n",
    "\n",
    "url_LondonHousePrices = \"https://data.london.gov.uk/download/uk-house-price-index/70ac0766-8902-4eb5-aab5-01951aaed773/UK%20House%20price%20index.xls\"\n",
    "\n",
    "# The dataset we're interested in contains the Average prices of the houses, and is actually on a particular sheet of the Excel file. \n",
    "# As a result, we need to specify the sheet name in the read_excel() method.\n",
    "# Put this data into a variable called properties.  \n",
    "properties = pd.read_excel(url_LondonHousePrices, sheet_name='Average price', index_col= None)"
   ]
  },
  {
   "cell_type": "markdown",
   "metadata": {
    "colab_type": "text",
    "id": "POukEJXgJpgu"
   },
   "source": [
    "### 2. Cleaning, transforming, and visualizing\n",
    "This second stage is arguably the most important part of any Data Science project. The first thing to do is take a proper look at the data. Cleaning forms the majority of this stage, and can be done both before or after Transformation.\n",
    "\n",
    "The end goal of data cleaning is to have tidy data. When data is tidy: \n",
    "\n",
    "1. Each variable has a column.\n",
    "2. Each observation forms a row.\n",
    "\n",
    "Keep the end goal in mind as you move through this process, every step will take you closer. \n",
    "\n",
    "\n",
    "\n",
    "***Hint:*** This part of the data science pipeline should test those skills you acquired in: \n",
    "- Intermediate Python for data science, all modules.\n",
    "- pandas Foundations, all modules. \n",
    "- Manipulating DataFrames with pandas, all modules.\n",
    "- Data Types for Data Science, Module Four.\n",
    "- Python Data Science Toolbox - Part One, all modules"
   ]
  },
  {
   "cell_type": "markdown",
   "metadata": {
    "colab_type": "text",
    "id": "Te0Q548tnzZa"
   },
   "source": [
    "**2.1. Exploring your data** \n",
    "\n",
    "Think about your pandas functions for checking out a dataframe. "
   ]
  },
  {
   "cell_type": "code",
   "execution_count": 4,
   "metadata": {
    "colab": {},
    "colab_type": "code",
    "id": "Rxirxw_qoAJa"
   },
   "outputs": [
    {
     "name": "stdout",
     "output_type": "stream",
     "text": [
      "  Unnamed: 0 City of London Barking & Dagenham     Barnet     Bexley  \\\n",
      "0        NaT      E09000001          E09000002  E09000003  E09000004   \n",
      "1 1995-01-01          90347              51870      98948      64956   \n",
      "2 1995-02-01          81213              52513      98848      64786   \n",
      "3 1995-03-01          78168              52701      97848      64366   \n",
      "4 1995-04-01          76172              54618      96273      64276   \n",
      "\n",
      "       Brent    Bromley     Camden    Croydon     Ealing  ... NORTH WEST  \\\n",
      "0  E09000005  E09000006  E09000007  E09000008  E09000009  ...  E12000002   \n",
      "1      76880      83082     119775      70118      85469  ...      40907   \n",
      "2      77651      83068     118365      69908      86551  ...      40877   \n",
      "3      77644      82856     119131      69666      87067  ...      41351   \n",
      "4      78668      82525     118948      69562      87933  ...      41195   \n",
      "\n",
      "  YORKS & THE HUMBER EAST MIDLANDS WEST MIDLANDS EAST OF ENGLAND     LONDON  \\\n",
      "0          E12000003     E12000004     E12000005       E12000006  E12000007   \n",
      "1              42171         43856         46470           56098      79687   \n",
      "2              41912         44344         47249           55991      77913   \n",
      "3              42544         43701         47345           55574      79110   \n",
      "4              42934         44414         47359           55966      79708   \n",
      "\n",
      "  SOUTH EAST SOUTH WEST Unnamed: 47    England  \n",
      "0  E12000008  E12000009         NaN  E92000001  \n",
      "1      64502      52799         NaN      50231  \n",
      "2      64196      52462         NaN      50130  \n",
      "3      64597      51716         NaN      50229  \n",
      "4      65111      52877         NaN      50597  \n",
      "\n",
      "[5 rows x 49 columns]\n",
      "(367, 49)\n"
     ]
    }
   ],
   "source": [
    "print(properties.head())\n",
    "print(properties.shape)"
   ]
  },
  {
   "cell_type": "markdown",
   "metadata": {
    "colab_type": "text",
    "id": "tE9Sqt9-oAta"
   },
   "source": [
    "**2.2. Cleaning the data**\n",
    "\n",
    "You might find you need to transpose your dataframe, check out what its row indexes are, and reset the index. You  also might find you need to assign the values of the first row to your column headings  . (Hint: recall the .columns feature of DataFrames, as well as the iloc[] method).\n",
    "\n",
    "Don't be afraid to use StackOverflow for help  with this."
   ]
  },
  {
   "cell_type": "code",
   "execution_count": 5,
   "metadata": {
    "colab": {},
    "colab_type": "code",
    "id": "cdAu1A3YoH_r"
   },
   "outputs": [
    {
     "name": "stdout",
     "output_type": "stream",
     "text": [
      "Index(['Unnamed: 0', 'Barking & Dagenham', 'Barnet', 'Bexley', 'Brent',\n",
      "       'Bromley', 'Camden', 'Croydon', 'Ealing', 'Enfield', 'Greenwich',\n",
      "       'Hackney', 'Hammersmith & Fulham', 'Haringey', 'Harrow', 'Havering',\n",
      "       'Hillingdon', 'Hounslow', 'Islington', 'Kensington & Chelsea',\n",
      "       'Kingston upon Thames', 'Lambeth', 'Lewisham', 'Merton', 'Newham',\n",
      "       'Redbridge', 'Richmond upon Thames', 'Southwark', 'Sutton',\n",
      "       'Tower Hamlets', 'Waltham Forest', 'Wandsworth', 'Westminster'],\n",
      "      dtype='object')\n",
      "  Unnamed: 0 Barking & Dagenham     Barnet     Bexley      Brent    Bromley  \\\n",
      "0        NaT          E09000002  E09000003  E09000004  E09000005  E09000006   \n",
      "1 1995-01-01              51870      98948      64956      76880      83082   \n",
      "2 1995-02-01              52513      98848      64786      77651      83068   \n",
      "3 1995-03-01              52701      97848      64366      77644      82856   \n",
      "4 1995-04-01              54618      96273      64276      78668      82525   \n",
      "\n",
      "      Camden    Croydon     Ealing    Enfield  ...     Merton     Newham  \\\n",
      "0  E09000007  E09000008  E09000009  E09000010  ...  E09000024  E09000025   \n",
      "1     119775      70118      85469      77018  ...      87732      55939   \n",
      "2     118365      69908      86551      77698  ...      85500      55536   \n",
      "3     119131      69666      87067      76674  ...      86226      55854   \n",
      "4     118948      69562      87933      75880  ...      85508      56922   \n",
      "\n",
      "   Redbridge Richmond upon Thames  Southwark     Sutton Tower Hamlets  \\\n",
      "0  E09000026            E09000027  E09000028  E09000029     E09000030   \n",
      "1      70909               115973      78355      72321         65716   \n",
      "2      70862               117858      74793      71670         68409   \n",
      "3      71216               113851      75906      71077         70188   \n",
      "4      70948               113373      72802      70173         72706   \n",
      "\n",
      "  Waltham Forest Wandsworth Westminster  \n",
      "0      E09000031  E09000032   E09000033  \n",
      "1          63315     101607      141417  \n",
      "2          62213     101701      139762  \n",
      "3          62852      99961      140604  \n",
      "4          62956      99848      141784  \n",
      "\n",
      "[5 rows x 33 columns]\n",
      "Unnamed: 0               index        NaT 1995-01-01 00:00:00  \\\n",
      "0           Barking & Dagenham  E09000002               51870   \n",
      "1                       Barnet  E09000003               98948   \n",
      "2                       Bexley  E09000004               64956   \n",
      "3                        Brent  E09000005               76880   \n",
      "4                      Bromley  E09000006               83082   \n",
      "\n",
      "Unnamed: 0 1995-02-01 00:00:00 1995-03-01 00:00:00 1995-04-01 00:00:00  \\\n",
      "0                        52513               52701               54618   \n",
      "1                        98848               97848               96273   \n",
      "2                        64786               64366               64276   \n",
      "3                        77651               77644               78668   \n",
      "4                        83068               82856               82525   \n",
      "\n",
      "Unnamed: 0 1995-05-01 00:00:00 1995-06-01 00:00:00 1995-07-01 00:00:00  \\\n",
      "0                        54524               55200               53569   \n",
      "1                        95737               95577               96992   \n",
      "2                        63995               64251               63721   \n",
      "3                        79464               80118               79920   \n",
      "4                        82951               83806               84330   \n",
      "\n",
      "Unnamed: 0 1995-08-01 00:00:00  ... 2024-09-01 00:00:00 2024-10-01 00:00:00  \\\n",
      "0                        53691  ...              336956              344448   \n",
      "1                        97968  ...              626732              629362   \n",
      "2                        64431  ...              405304              406564   \n",
      "3                        79295  ...              575136              589204   \n",
      "4                        83471  ...              507717              507216   \n",
      "\n",
      "Unnamed: 0 2024-11-01 00:00:00 2024-12-01 00:00:00 2025-01-01 00:00:00  \\\n",
      "0                       351275              356050              357416   \n",
      "1                       630294              624951              612991   \n",
      "2                       404945              402858              403128   \n",
      "3                       589089              578448              570180   \n",
      "4                       507757              500986              503686   \n",
      "\n",
      "Unnamed: 0 2025-02-01 00:00:00 2025-03-01 00:00:00 2025-04-01 00:00:00  \\\n",
      "0                       362688              369551              370073   \n",
      "1                       600397              597309              588086   \n",
      "2                       406292              406263              397330   \n",
      "3                       565182              564864              570591   \n",
      "4                       508174              518943              526540   \n",
      "\n",
      "Unnamed: 0 2025-05-01 00:00:00 2025-06-01 00:00:00  \n",
      "0                       367057              359870  \n",
      "1                       579852              586594  \n",
      "2                       399320              403202  \n",
      "3                       559808              541430  \n",
      "4                       533475              539244  \n",
      "\n",
      "[5 rows x 368 columns]\n"
     ]
    },
    {
     "name": "stderr",
     "output_type": "stream",
     "text": [
      "/opt/anaconda3/lib/python3.13/site-packages/pandas/core/indexes/base.py:7631: FutureWarning: Dtype inference on a pandas object (Series, Index, ExtensionArray) is deprecated. The Index constructor will keep the original dtype in the future. Call `infer_objects` on the result to get the old behavior.\n",
      "  return Index(index_like, name=name, copy=copy)\n"
     ]
    }
   ],
   "source": [
    "# JF Note according to google, the city of london is not its own borough, \n",
    "# drop city of london column with index == 1 so we are left with 32 boroughs\n",
    "prop_wo_city = properties.drop('City of London', axis=1)\n",
    "\n",
    "# JF Note there are aggregate columns in excel sheet like inner, outer boroughs, england, etc\n",
    "# drop aggregates\n",
    "prop_wo_aggregates = prop_wo_city.iloc[:, 0:33]\n",
    "\n",
    "print(prop_wo_aggregates.columns)\n",
    "print(prop_wo_aggregates.head())\n",
    "#print(prop_wo_aggregates.index)\n",
    "\n",
    "prop_transposed = prop_wo_aggregates.transpose()\n",
    "\n",
    "headers = prop_transposed.iloc[0]\n",
    "prop_transposed.columns = headers\n",
    "prop_transposed = prop_transposed.iloc[1:]\n",
    "prop_transposed = prop_transposed.reset_index()\n",
    "\n",
    "#print(properties.columns)\n",
    "\n",
    "print(prop_transposed.head())"
   ]
  },
  {
   "cell_type": "markdown",
   "metadata": {
    "colab_type": "text",
    "id": "o1uLbJAsoIjK"
   },
   "source": [
    "**2.3. Cleaning the data (part 2)**\n",
    "\n",
    "You might we have to **rename** a couple columns. How do you do this? The clue's pretty bold..."
   ]
  },
  {
   "cell_type": "code",
   "execution_count": 6,
   "metadata": {
    "colab": {},
    "colab_type": "code",
    "id": "GKkmn1AnoVZS"
   },
   "outputs": [
    {
     "name": "stdout",
     "output_type": "stream",
     "text": [
      "Unnamed: 0             borough         id 1995-01-01 00:00:00  \\\n",
      "0           Barking & Dagenham  E09000002               51870   \n",
      "1                       Barnet  E09000003               98948   \n",
      "2                       Bexley  E09000004               64956   \n",
      "3                        Brent  E09000005               76880   \n",
      "4                      Bromley  E09000006               83082   \n",
      "\n",
      "Unnamed: 0 1995-02-01 00:00:00 1995-03-01 00:00:00 1995-04-01 00:00:00  \\\n",
      "0                        52513               52701               54618   \n",
      "1                        98848               97848               96273   \n",
      "2                        64786               64366               64276   \n",
      "3                        77651               77644               78668   \n",
      "4                        83068               82856               82525   \n",
      "\n",
      "Unnamed: 0 1995-05-01 00:00:00 1995-06-01 00:00:00 1995-07-01 00:00:00  \\\n",
      "0                        54524               55200               53569   \n",
      "1                        95737               95577               96992   \n",
      "2                        63995               64251               63721   \n",
      "3                        79464               80118               79920   \n",
      "4                        82951               83806               84330   \n",
      "\n",
      "Unnamed: 0 1995-08-01 00:00:00  ... 2024-09-01 00:00:00 2024-10-01 00:00:00  \\\n",
      "0                        53691  ...              336956              344448   \n",
      "1                        97968  ...              626732              629362   \n",
      "2                        64431  ...              405304              406564   \n",
      "3                        79295  ...              575136              589204   \n",
      "4                        83471  ...              507717              507216   \n",
      "\n",
      "Unnamed: 0 2024-11-01 00:00:00 2024-12-01 00:00:00 2025-01-01 00:00:00  \\\n",
      "0                       351275              356050              357416   \n",
      "1                       630294              624951              612991   \n",
      "2                       404945              402858              403128   \n",
      "3                       589089              578448              570180   \n",
      "4                       507757              500986              503686   \n",
      "\n",
      "Unnamed: 0 2025-02-01 00:00:00 2025-03-01 00:00:00 2025-04-01 00:00:00  \\\n",
      "0                       362688              369551              370073   \n",
      "1                       600397              597309              588086   \n",
      "2                       406292              406263              397330   \n",
      "3                       565182              564864              570591   \n",
      "4                       508174              518943              526540   \n",
      "\n",
      "Unnamed: 0 2025-05-01 00:00:00 2025-06-01 00:00:00  \n",
      "0                       367057              359870  \n",
      "1                       579852              586594  \n",
      "2                       399320              403202  \n",
      "3                       559808              541430  \n",
      "4                       533475              539244  \n",
      "\n",
      "[5 rows x 368 columns]\n"
     ]
    }
   ],
   "source": [
    "prop_transposed.rename(columns={prop_transposed.columns[0]: 'borough'}, inplace=True)\n",
    "prop_transposed.rename(columns={prop_transposed.columns[1]: 'id'}, inplace=True)\n",
    "print(prop_transposed.head())"
   ]
  },
  {
   "cell_type": "markdown",
   "metadata": {
    "colab_type": "text",
    "id": "jy8BzXHmoWEw"
   },
   "source": [
    "**2.4.Transforming the data**\n",
    "\n",
    "Remember what Wes McKinney said about tidy data? \n",
    "\n",
    "You might need to **melt** your DataFrame here. "
   ]
  },
  {
   "cell_type": "raw",
   "metadata": {},
   "source": []
  },
  {
   "cell_type": "code",
   "execution_count": 7,
   "metadata": {
    "colab": {},
    "colab_type": "code",
    "id": "S2wM0qLuo2Zt"
   },
   "outputs": [
    {
     "name": "stdout",
     "output_type": "stream",
     "text": [
      "              borough         id                month average_price\n",
      "0  Barking & Dagenham  E09000002  1995-01-01 00:00:00         51870\n",
      "1              Barnet  E09000003  1995-01-01 00:00:00         98948\n",
      "2              Bexley  E09000004  1995-01-01 00:00:00         64956\n",
      "3               Brent  E09000005  1995-01-01 00:00:00         76880\n",
      "4             Bromley  E09000006  1995-01-01 00:00:00         83082\n"
     ]
    }
   ],
   "source": [
    "properties_melted = prop_transposed.melt(id_vars=['borough', 'id'], var_name='month', value_name='average_price')\n",
    "print(properties_melted.head())"
   ]
  },
  {
   "cell_type": "markdown",
   "metadata": {
    "colab_type": "text",
    "id": "7kIsgAo7o3mf"
   },
   "source": [
    "Remember to make sure your column data types are all correct. Average prices, for example, should be floating point numbers... "
   ]
  },
  {
   "cell_type": "code",
   "execution_count": 8,
   "metadata": {
    "colab": {},
    "colab_type": "code",
    "id": "ZcR4IHbcpOaq"
   },
   "outputs": [
    {
     "name": "stdout",
     "output_type": "stream",
     "text": [
      "borough                  object\n",
      "id                       object\n",
      "month            datetime64[ns]\n",
      "average_price           float64\n",
      "dtype: object\n"
     ]
    }
   ],
   "source": [
    "properties_melted['month'] = pd.to_datetime(properties_melted['month'], format='%Y-%m-%d')\n",
    "properties_melted['average_price'] = properties_melted['average_price'].astype(float)\n",
    "print(properties_melted.dtypes)"
   ]
  },
  {
   "cell_type": "markdown",
   "metadata": {
    "colab_type": "text",
    "id": "knLUXHLypOtw"
   },
   "source": [
    "**2.5. Cleaning the data (part 3)**\n",
    "\n",
    "Do we have an equal number of observations in the ID, Average Price, Month, and London Borough columns? Remember that there are only 32 London Boroughs. How many entries do you have in that column? \n",
    "\n",
    "Check out the contents of the London Borough column, and if you find null values, get rid of them however you see fit. "
   ]
  },
  {
   "cell_type": "code",
   "execution_count": 9,
   "metadata": {
    "colab": {},
    "colab_type": "code",
    "id": "BnvTW5a3p0fC"
   },
   "outputs": [],
   "source": [
    "#already cleaned data in previous step"
   ]
  },
  {
   "cell_type": "markdown",
   "metadata": {
    "colab_type": "text",
    "id": "PGEx6mJsp6dG"
   },
   "source": [
    "**2.6. Visualizing the data**\n",
    "\n",
    "To visualize the data, why not subset on a particular London Borough? Maybe do a line plot of Month against Average Price?"
   ]
  },
  {
   "cell_type": "code",
   "execution_count": 10,
   "metadata": {
    "colab": {},
    "colab_type": "code",
    "id": "nAg5pT9cqHAR"
   },
   "outputs": [
    {
     "data": {
      "image/png": "[encoded data removed]",
      "text/plain": [
       "<Figure size 640x480 with 1 Axes>"
      ]
     },
     "metadata": {},
     "output_type": "display_data"
    }
   ],
   "source": [
    "subset_borough = 'Brent'\n",
    "subset_df = properties_melted[properties_melted['borough'] == subset_borough]\n",
    "subset_df.plot(x='month', y='average_price', kind='line', rot=45, title=subset_borough + ' Average Home Price')\n",
    "plt.show()"
   ]
  },
  {
   "cell_type": "markdown",
   "metadata": {
    "colab_type": "text",
    "id": "aWTPqSJeqHnC"
   },
   "source": [
    "To limit the number of data points you have, you might want to extract the year from every month value your *Month* column. \n",
    "\n",
    "To this end, you *could* apply a ***lambda function***. Your logic could work as follows:\n",
    "1. look through the `Month` column\n",
    "2. extract the year from each individual value in that column \n",
    "3. store that corresponding year as separate column. \n",
    "\n",
    "Whether you go ahead with this is up to you. Just so long as you answer our initial brief: which boroughs of London have seen the greatest house price increase, on average, over the past two decades? "
   ]
  },
  {
   "cell_type": "code",
   "execution_count": 11,
   "metadata": {
    "colab": {},
    "colab_type": "code",
    "id": "e0DF92cyqnu8"
   },
   "outputs": [
    {
     "name": "stdout",
     "output_type": "stream",
     "text": [
      "              borough         id      month  average_price  year\n",
      "0  Barking & Dagenham  E09000002 1995-01-01        51870.0  1995\n",
      "1              Barnet  E09000003 1995-01-01        98948.0  1995\n",
      "2              Bexley  E09000004 1995-01-01        64956.0  1995\n",
      "3               Brent  E09000005 1995-01-01        76880.0  1995\n",
      "4             Bromley  E09000006 1995-01-01        83082.0  1995\n"
     ]
    }
   ],
   "source": [
    "properties_melted['year'] = properties_melted['month'].apply(lambda x: x.year)\n",
    "print(properties_melted.head())"
   ]
  },
  {
   "cell_type": "markdown",
   "metadata": {
    "colab_type": "text",
    "id": "2knuTxAEqoJ4"
   },
   "source": [
    "**3. Modeling**\n",
    "\n",
    "Consider creating a function that will calculate a ratio of house prices, comparing the price of a house in 2018 to the price in 1998.\n",
    "\n",
    "Consider calling this function create_price_ratio.\n",
    "\n",
    "You'd want this function to:\n",
    "1. Take a filter of dfg, specifically where this filter constrains the London_Borough, as an argument. For example, one admissible argument should be: dfg[dfg['London_Borough']=='Camden'].\n",
    "2. Get the Average Price for that Borough, for the years 1998 and 2018.\n",
    "4. Calculate the ratio of the Average Price for 1998 divided by the Average Price for 2018.\n",
    "5. Return that ratio.\n",
    "\n",
    "Once you've written this function, you ultimately want to use it to iterate through all the unique London_Boroughs and work out the ratio capturing the difference of house prices between 1998 and 2018.\n",
    "\n",
    "Bear in mind: you don't have to write a function like this if you don't want to. If you can solve the brief otherwise, then great! \n",
    "\n",
    "***Hint***: This section should test the skills you acquired in:\n",
    "- Python Data Science Toolbox - Part One, all modules"
   ]
  },
  {
   "cell_type": "code",
   "execution_count": 12,
   "metadata": {
    "colab": {},
    "colab_type": "code",
    "id": "cKTyr437UgDa"
   },
   "outputs": [
    {
     "name": "stdout",
     "output_type": "stream",
     "text": [
      "Barking & Dagenham- Price Difference Ratio: 0.20423085648121447, Percentage Increase:  389.64%\n",
      "Barnet- Price Difference Ratio: 0.22947455739173486, Percentage Increase:  335.78%\n",
      "Bexley- Price Difference Ratio: 0.23530347343041924, Percentage Increase:  324.98%\n",
      "Brent- Price Difference Ratio: 0.2042709511130373, Percentage Increase:  389.55%\n",
      "Bromley- Price Difference Ratio: 0.24420951547316044, Percentage Increase:  309.48%\n",
      "Camden- Price Difference Ratio: 0.20267356278891333, Percentage Increase:  393.40%\n",
      "Croydon- Price Difference Ratio: 0.2380391114911231, Percentage Increase:  320.10%\n",
      "Ealing- Price Difference Ratio: 0.23192306400619503, Percentage Increase:  331.18%\n",
      "Enfield- Price Difference Ratio: 0.23459076890446723, Percentage Increase:  326.27%\n",
      "Greenwich- Price Difference Ratio: 0.20992657248589605, Percentage Increase:  376.36%\n",
      "Hackney- Price Difference Ratio: 0.16133368258111871, Percentage Increase:  519.83%\n",
      "Hammersmith & Fulham- Price Difference Ratio: 0.24160770686044686, Percentage Increase:  313.89%\n",
      "Haringey- Price Difference Ratio: 0.1947589860903206, Percentage Increase:  413.46%\n",
      "Harrow- Price Difference Ratio: 0.24635696204346105, Percentage Increase:  305.92%\n",
      "Havering- Price Difference Ratio: 0.2311674741774039, Percentage Increase:  332.59%\n",
      "Hillingdon- Price Difference Ratio: 0.23807905579139363, Percentage Increase:  320.03%\n",
      "Hounslow- Price Difference Ratio: 0.2514409504391468, Percentage Increase:  297.71%\n",
      "Islington- Price Difference Ratio: 0.20653152795079477, Percentage Increase:  384.19%\n",
      "Kensington & Chelsea- Price Difference Ratio: 0.19676620114162713, Percentage Increase:  408.22%\n",
      "Kingston upon Thames- Price Difference Ratio: 0.23418985104353574, Percentage Increase:  327.00%\n",
      "Lambeth- Price Difference Ratio: 0.20168618083100256, Percentage Increase:  395.82%\n",
      "Lewisham- Price Difference Ratio: 0.1835560780718766, Percentage Increase:  444.79%\n",
      "Merton- Price Difference Ratio: 0.21074127656145353, Percentage Increase:  374.52%\n",
      "Newham- Price Difference Ratio: 0.18840695888908257, Percentage Increase:  430.77%\n",
      "Redbridge- Price Difference Ratio: 0.22370449143904522, Percentage Increase:  347.02%\n",
      "Richmond upon Thames- Price Difference Ratio: 0.24982768681212475, Percentage Increase:  300.28%\n",
      "Southwark- Price Difference Ratio: 0.18127861838228881, Percentage Increase:  451.64%\n",
      "Sutton- Price Difference Ratio: 0.24278455335350252, Percentage Increase:  311.89%\n",
      "Tower Hamlets- Price Difference Ratio: 0.21613517706081295, Percentage Increase:  362.67%\n",
      "Waltham Forest- Price Difference Ratio: 0.17137583603293005, Percentage Increase:  483.51%\n",
      "Wandsworth- Price Difference Ratio: 0.21019117972705792, Percentage Increase:  375.76%\n",
      "Westminster- Price Difference Ratio: 0.18682052241831665, Percentage Increase:  435.27%\n"
     ]
    }
   ],
   "source": [
    "def create_price_ratio(london_borough):\n",
    "    ave_price_in_1998 = properties_melted.query('borough == @london_borough and year == 1998')['average_price'].mean()\n",
    "    ave_price_in_2018 = properties_melted.query('borough == @london_borough and year == 2018')['average_price'].mean()\n",
    "    #print(ave_price_in_1998)\n",
    "    #print(ave_price_in_2018)\n",
    "    ratio = ave_price_in_1998 / ave_price_in_2018\n",
    "    #print(ratio)\n",
    "    percentage_increase = (ave_price_in_2018 - ave_price_in_1998) / ave_price_in_1998\n",
    "    #print(percentage_increase)\n",
    "    return london_borough, ratio, percentage_increase\n",
    "\n",
    "boroughs = properties_melted['borough'].unique()\n",
    "#print(boroughs)\n",
    "\n",
    "for b in boroughs:\n",
    "    london_borough, ratio, percentage_increase = create_price_ratio(b)\n",
    "    print(b +'- Price Difference Ratio: ' + str(ratio) + ', Percentage Increase: ' + f\" {percentage_increase:.2%}\")\n"
   ]
  },
  {
   "cell_type": "markdown",
   "metadata": {
    "colab_type": "text",
    "id": "NzYUI7FxJpgv"
   },
   "source": [
    "### 4. Conclusion\n",
    "Hackney is the London borough with the largest average home increase between 1998 and 2019 with percentage increase of 519.83%"
   ]
  }
 ],
 "metadata": {
  "colab": {
   "collapsed_sections": [],
   "name": "Springboard Data Science Career Track Unit 4 Challenge - Tier 3 Complete .ipynb",
   "provenance": []
  },
  "kernelspec": {
   "display_name": "Python [conda env:base] *",
   "language": "python",
   "name": "conda-base-py"
  },
  "language_info": {
   "codemirror_mode": {
    "name": "ipython",
    "version": 3
   },
   "file_extension": ".py",
   "mimetype": "text/x-python",
   "name": "python",
   "nbconvert_exporter": "python",
   "pygments_lexer": "ipython3",
   "version": "3.13.5"
  }
 },
 "nbformat": 4,
 "nbformat_minor": 4
}
